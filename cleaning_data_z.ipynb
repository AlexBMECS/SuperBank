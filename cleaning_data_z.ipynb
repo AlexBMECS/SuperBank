{
 "cells": [
  {
   "cell_type": "code",
   "execution_count": 1,
   "metadata": {},
   "outputs": [],
   "source": [
    "from IPython.display import Image\n",
    "import pandas as pd\n",
    "import numpy as np\n",
    "import matplotlib\n",
    "import matplotlib.pyplot as plt\n",
    "from matplotlib import cm\n",
    "import warnings\n",
    "warnings.simplefilter(\"ignore\")\n",
    "%matplotlib inline\n",
    "\n",
    "matplotlib.rcParams['figure.figsize'] = [12, 12]\n",
    "from sklearn import datasets as ds\n",
    "from sklearn.linear_model import LinearRegression\n",
    "import tensorflow as tf"
   ]
  },
  {
   "cell_type": "code",
   "execution_count": 2,
   "metadata": {},
   "outputs": [],
   "source": [
    "data_original = pd.read_json(\"data/dataZ_best.csv\")\n",
    "data = data_original"
   ]
  },
  {
   "cell_type": "code",
   "execution_count": 3,
   "metadata": {},
   "outputs": [
    {
     "data": {
      "text/html": [
       "<div>\n",
       "<style scoped>\n",
       "    .dataframe tbody tr th:only-of-type {\n",
       "        vertical-align: middle;\n",
       "    }\n",
       "\n",
       "    .dataframe tbody tr th {\n",
       "        vertical-align: top;\n",
       "    }\n",
       "\n",
       "    .dataframe thead th {\n",
       "        text-align: right;\n",
       "    }\n",
       "</style>\n",
       "<table border=\"1\" class=\"dataframe\">\n",
       "  <thead>\n",
       "    <tr style=\"text-align: right;\">\n",
       "      <th></th>\n",
       "      <th>REGION_RATING_CLIENT</th>\n",
       "      <th>AMT_ANNUITY</th>\n",
       "      <th>FLAG_WORK_PHONE</th>\n",
       "      <th>CODE_GENDER</th>\n",
       "      <th>NAME_FAMILY_STATUS</th>\n",
       "      <th>REG_CITY_NOT_WORK_CITY</th>\n",
       "      <th>EXT_SOURCE_2</th>\n",
       "      <th>FLAG_EMP_PHONE</th>\n",
       "      <th>FLAG_DOCUMENT_5</th>\n",
       "      <th>LIVINGAREA_AVG</th>\n",
       "      <th>IS_KAEL</th>\n",
       "    </tr>\n",
       "  </thead>\n",
       "  <tbody>\n",
       "    <tr>\n",
       "      <th>100004</th>\n",
       "      <td>I hope this data helps you.Sorry_for_not_not h...</td>\n",
       "      <td>6750.0</td>\n",
       "      <td>1</td>\n",
       "      <td>M</td>\n",
       "      <td>Single / not married</td>\n",
       "      <td>0</td>\n",
       "      <td>55.59%</td>\n",
       "      <td>1</td>\n",
       "      <td>0</td>\n",
       "      <td>-99999.0</td>\n",
       "      <td>NaN</td>\n",
       "    </tr>\n",
       "    <tr>\n",
       "      <th>100006</th>\n",
       "      <td>2</td>\n",
       "      <td>29686.5</td>\n",
       "      <td>0</td>\n",
       "      <td>F</td>\n",
       "      <td>Civil marriage</td>\n",
       "      <td>0</td>\n",
       "      <td>65.04%</td>\n",
       "      <td>1</td>\n",
       "      <td>0</td>\n",
       "      <td>-99999.0</td>\n",
       "      <td>0.0</td>\n",
       "    </tr>\n",
       "    <tr>\n",
       "      <th>100012</th>\n",
       "      <td>2</td>\n",
       "      <td>20250.0</td>\n",
       "      <td>0</td>\n",
       "      <td>M</td>\n",
       "      <td>Single / not married</td>\n",
       "      <td>0</td>\n",
       "      <td>74.66%</td>\n",
       "      <td>1</td>\n",
       "      <td>0</td>\n",
       "      <td>-99999.0</td>\n",
       "      <td>NaN</td>\n",
       "    </tr>\n",
       "    <tr>\n",
       "      <th>100014</th>\n",
       "      <td>2</td>\n",
       "      <td>21177.0</td>\n",
       "      <td>0</td>\n",
       "      <td>F</td>\n",
       "      <td>Married</td>\n",
       "      <td>0</td>\n",
       "      <td>65.19%</td>\n",
       "      <td>1</td>\n",
       "      <td>0</td>\n",
       "      <td>-99999.0</td>\n",
       "      <td>0.0</td>\n",
       "    </tr>\n",
       "    <tr>\n",
       "      <th>100015</th>\n",
       "      <td>2</td>\n",
       "      <td>10678.5</td>\n",
       "      <td>0</td>\n",
       "      <td>F</td>\n",
       "      <td>Married</td>\n",
       "      <td>0</td>\n",
       "      <td>55.52%</td>\n",
       "      <td>0</td>\n",
       "      <td>0</td>\n",
       "      <td>-99999.0</td>\n",
       "      <td>0.0</td>\n",
       "    </tr>\n",
       "  </tbody>\n",
       "</table>\n",
       "</div>"
      ],
      "text/plain": [
       "                                     REGION_RATING_CLIENT  AMT_ANNUITY  \\\n",
       "100004  I hope this data helps you.Sorry_for_not_not h...       6750.0   \n",
       "100006                                                  2      29686.5   \n",
       "100012                                                  2      20250.0   \n",
       "100014                                                  2      21177.0   \n",
       "100015                                                  2      10678.5   \n",
       "\n",
       "        FLAG_WORK_PHONE CODE_GENDER    NAME_FAMILY_STATUS  \\\n",
       "100004                1           M  Single / not married   \n",
       "100006                0           F        Civil marriage   \n",
       "100012                0           M  Single / not married   \n",
       "100014                0           F               Married   \n",
       "100015                0           F               Married   \n",
       "\n",
       "        REG_CITY_NOT_WORK_CITY EXT_SOURCE_2  FLAG_EMP_PHONE  FLAG_DOCUMENT_5  \\\n",
       "100004                       0       55.59%               1                0   \n",
       "100006                       0       65.04%               1                0   \n",
       "100012                       0       74.66%               1                0   \n",
       "100014                       0       65.19%               1                0   \n",
       "100015                       0       55.52%               0                0   \n",
       "\n",
       "        LIVINGAREA_AVG  IS_KAEL  \n",
       "100004        -99999.0      NaN  \n",
       "100006        -99999.0      0.0  \n",
       "100012        -99999.0      NaN  \n",
       "100014        -99999.0      0.0  \n",
       "100015        -99999.0      0.0  "
      ]
     },
     "execution_count": 3,
     "metadata": {},
     "output_type": "execute_result"
    }
   ],
   "source": [
    "data.head()"
   ]
  },
  {
   "cell_type": "code",
   "execution_count": 4,
   "metadata": {},
   "outputs": [],
   "source": [
    "data.at[100004,\"REGION_RATING_CLIENT\"] = 2"
   ]
  },
  {
   "cell_type": "code",
   "execution_count": 5,
   "metadata": {},
   "outputs": [
    {
     "data": {
      "text/html": [
       "<div>\n",
       "<style scoped>\n",
       "    .dataframe tbody tr th:only-of-type {\n",
       "        vertical-align: middle;\n",
       "    }\n",
       "\n",
       "    .dataframe tbody tr th {\n",
       "        vertical-align: top;\n",
       "    }\n",
       "\n",
       "    .dataframe thead th {\n",
       "        text-align: right;\n",
       "    }\n",
       "</style>\n",
       "<table border=\"1\" class=\"dataframe\">\n",
       "  <thead>\n",
       "    <tr style=\"text-align: right;\">\n",
       "      <th></th>\n",
       "      <th>REGION_RATING_CLIENT</th>\n",
       "      <th>AMT_ANNUITY</th>\n",
       "      <th>FLAG_WORK_PHONE</th>\n",
       "      <th>CODE_GENDER</th>\n",
       "      <th>NAME_FAMILY_STATUS</th>\n",
       "      <th>REG_CITY_NOT_WORK_CITY</th>\n",
       "      <th>EXT_SOURCE_2</th>\n",
       "      <th>FLAG_EMP_PHONE</th>\n",
       "      <th>FLAG_DOCUMENT_5</th>\n",
       "      <th>LIVINGAREA_AVG</th>\n",
       "      <th>IS_KAEL</th>\n",
       "    </tr>\n",
       "  </thead>\n",
       "  <tbody>\n",
       "    <tr>\n",
       "      <th>100004</th>\n",
       "      <td>2</td>\n",
       "      <td>6750.0</td>\n",
       "      <td>1</td>\n",
       "      <td>M</td>\n",
       "      <td>Single / not married</td>\n",
       "      <td>0</td>\n",
       "      <td>55.59%</td>\n",
       "      <td>1</td>\n",
       "      <td>0</td>\n",
       "      <td>-99999.0000</td>\n",
       "      <td>NaN</td>\n",
       "    </tr>\n",
       "    <tr>\n",
       "      <th>100006</th>\n",
       "      <td>2</td>\n",
       "      <td>29686.5</td>\n",
       "      <td>0</td>\n",
       "      <td>F</td>\n",
       "      <td>Civil marriage</td>\n",
       "      <td>0</td>\n",
       "      <td>65.04%</td>\n",
       "      <td>1</td>\n",
       "      <td>0</td>\n",
       "      <td>-99999.0000</td>\n",
       "      <td>0.0</td>\n",
       "    </tr>\n",
       "    <tr>\n",
       "      <th>100012</th>\n",
       "      <td>2</td>\n",
       "      <td>20250.0</td>\n",
       "      <td>0</td>\n",
       "      <td>M</td>\n",
       "      <td>Single / not married</td>\n",
       "      <td>0</td>\n",
       "      <td>74.66%</td>\n",
       "      <td>1</td>\n",
       "      <td>0</td>\n",
       "      <td>-99999.0000</td>\n",
       "      <td>NaN</td>\n",
       "    </tr>\n",
       "    <tr>\n",
       "      <th>100014</th>\n",
       "      <td>2</td>\n",
       "      <td>21177.0</td>\n",
       "      <td>0</td>\n",
       "      <td>F</td>\n",
       "      <td>Married</td>\n",
       "      <td>0</td>\n",
       "      <td>65.19%</td>\n",
       "      <td>1</td>\n",
       "      <td>0</td>\n",
       "      <td>-99999.0000</td>\n",
       "      <td>0.0</td>\n",
       "    </tr>\n",
       "    <tr>\n",
       "      <th>100015</th>\n",
       "      <td>2</td>\n",
       "      <td>10678.5</td>\n",
       "      <td>0</td>\n",
       "      <td>F</td>\n",
       "      <td>Married</td>\n",
       "      <td>0</td>\n",
       "      <td>55.52%</td>\n",
       "      <td>0</td>\n",
       "      <td>0</td>\n",
       "      <td>-99999.0000</td>\n",
       "      <td>0.0</td>\n",
       "    </tr>\n",
       "    <tr>\n",
       "      <th>100017</th>\n",
       "      <td>2</td>\n",
       "      <td>28966.5</td>\n",
       "      <td>0</td>\n",
       "      <td>M</td>\n",
       "      <td>Married</td>\n",
       "      <td>0</td>\n",
       "      <td>56.69%</td>\n",
       "      <td>1</td>\n",
       "      <td>0</td>\n",
       "      <td>0.1397</td>\n",
       "      <td>0.0</td>\n",
       "    </tr>\n",
       "    <tr>\n",
       "      <th>100018</th>\n",
       "      <td>2</td>\n",
       "      <td>32778.0</td>\n",
       "      <td>0</td>\n",
       "      <td>F</td>\n",
       "      <td>Married</td>\n",
       "      <td>0</td>\n",
       "      <td>64.27%</td>\n",
       "      <td>1</td>\n",
       "      <td>0</td>\n",
       "      <td>0.3774</td>\n",
       "      <td>0.0</td>\n",
       "    </tr>\n",
       "    <tr>\n",
       "      <th>100019</th>\n",
       "      <td>3</td>\n",
       "      <td>20160.0</td>\n",
       "      <td>0</td>\n",
       "      <td>M</td>\n",
       "      <td>Single / not married</td>\n",
       "      <td>1</td>\n",
       "      <td>34.66%</td>\n",
       "      <td>1</td>\n",
       "      <td>0</td>\n",
       "      <td>-99999.0000</td>\n",
       "      <td>0.0</td>\n",
       "    </tr>\n",
       "    <tr>\n",
       "      <th>100030</th>\n",
       "      <td>2</td>\n",
       "      <td>11074.5</td>\n",
       "      <td>0</td>\n",
       "      <td>F</td>\n",
       "      <td>Married</td>\n",
       "      <td>0</td>\n",
       "      <td>65.14%</td>\n",
       "      <td>1</td>\n",
       "      <td>0</td>\n",
       "      <td>0.0670</td>\n",
       "      <td>0.0</td>\n",
       "    </tr>\n",
       "    <tr>\n",
       "      <th>100032</th>\n",
       "      <td>2</td>\n",
       "      <td>23827.5</td>\n",
       "      <td>0</td>\n",
       "      <td>M</td>\n",
       "      <td>Married</td>\n",
       "      <td>1</td>\n",
       "      <td>54.11%</td>\n",
       "      <td>1</td>\n",
       "      <td>0</td>\n",
       "      <td>-99999.0000</td>\n",
       "      <td>0.0</td>\n",
       "    </tr>\n",
       "  </tbody>\n",
       "</table>\n",
       "</div>"
      ],
      "text/plain": [
       "       REGION_RATING_CLIENT  AMT_ANNUITY  FLAG_WORK_PHONE CODE_GENDER  \\\n",
       "100004                    2       6750.0                1           M   \n",
       "100006                    2      29686.5                0           F   \n",
       "100012                    2      20250.0                0           M   \n",
       "100014                    2      21177.0                0           F   \n",
       "100015                    2      10678.5                0           F   \n",
       "100017                    2      28966.5                0           M   \n",
       "100018                    2      32778.0                0           F   \n",
       "100019                    3      20160.0                0           M   \n",
       "100030                    2      11074.5                0           F   \n",
       "100032                    2      23827.5                0           M   \n",
       "\n",
       "          NAME_FAMILY_STATUS  REG_CITY_NOT_WORK_CITY EXT_SOURCE_2  \\\n",
       "100004  Single / not married                       0       55.59%   \n",
       "100006        Civil marriage                       0       65.04%   \n",
       "100012  Single / not married                       0       74.66%   \n",
       "100014               Married                       0       65.19%   \n",
       "100015               Married                       0       55.52%   \n",
       "100017               Married                       0       56.69%   \n",
       "100018               Married                       0       64.27%   \n",
       "100019  Single / not married                       1       34.66%   \n",
       "100030               Married                       0       65.14%   \n",
       "100032               Married                       1       54.11%   \n",
       "\n",
       "        FLAG_EMP_PHONE  FLAG_DOCUMENT_5  LIVINGAREA_AVG  IS_KAEL  \n",
       "100004               1                0     -99999.0000      NaN  \n",
       "100006               1                0     -99999.0000      0.0  \n",
       "100012               1                0     -99999.0000      NaN  \n",
       "100014               1                0     -99999.0000      0.0  \n",
       "100015               0                0     -99999.0000      0.0  \n",
       "100017               1                0          0.1397      0.0  \n",
       "100018               1                0          0.3774      0.0  \n",
       "100019               1                0     -99999.0000      0.0  \n",
       "100030               1                0          0.0670      0.0  \n",
       "100032               1                0     -99999.0000      0.0  "
      ]
     },
     "execution_count": 5,
     "metadata": {},
     "output_type": "execute_result"
    }
   ],
   "source": [
    "data.head(10)"
   ]
  },
  {
   "cell_type": "code",
   "execution_count": 6,
   "metadata": {},
   "outputs": [
    {
     "data": {
      "text/plain": [
       "2    73788\n",
       "3    15753\n",
       "1    10459\n",
       "Name: REGION_RATING_CLIENT, dtype: int64"
      ]
     },
     "execution_count": 6,
     "metadata": {},
     "output_type": "execute_result"
    }
   ],
   "source": [
    "data[\"REGION_RATING_CLIENT\"].value_counts()"
   ]
  },
  {
   "cell_type": "code",
   "execution_count": 7,
   "metadata": {},
   "outputs": [],
   "source": [
    "data[\"LIVINGAREA_AVG\"].value_counts()\n",
    "temp = data[data.LIVINGAREA_AVG >= 0]\n",
    "lv_ar_mean = temp[\"LIVINGAREA_AVG\"].mean()\n",
    "lv_ar_mean\n",
    "\n",
    "data[\"LIVINGAREA_AVG\"][data.LIVINGAREA_AVG < 0]= lv_ar_mean"
   ]
  },
  {
   "cell_type": "code",
   "execution_count": 8,
   "metadata": {},
   "outputs": [
    {
     "data": {
      "text/plain": [
       "0.107732    50032\n",
       "0.000000       91\n",
       "0.051200       86\n",
       "0.050600       77\n",
       "0.050800       76\n",
       "0.062600       75\n",
       "0.050400       74\n",
       "0.052600       73\n",
       "0.070600       72\n",
       "0.063600       71\n",
       "0.051000       71\n",
       "0.070200       71\n",
       "0.054100       70\n",
       "0.008200       70\n",
       "0.010400       70\n",
       "0.051700       69\n",
       "0.053600       69\n",
       "0.051400       69\n",
       "0.062400       69\n",
       "0.050500       68\n",
       "0.063400       68\n",
       "0.063000       67\n",
       "0.063500       67\n",
       "0.070700       67\n",
       "0.008100       66\n",
       "0.088000       66\n",
       "0.050000       65\n",
       "0.051300       65\n",
       "0.050900       65\n",
       "0.062200       64\n",
       "            ...  \n",
       "0.517300        1\n",
       "0.399800        1\n",
       "0.380300        1\n",
       "0.626800        1\n",
       "0.875300        1\n",
       "0.922000        1\n",
       "0.455900        1\n",
       "0.436400        1\n",
       "0.292000        1\n",
       "0.297000        1\n",
       "0.520000        1\n",
       "0.505300        1\n",
       "0.477200        1\n",
       "0.382300        1\n",
       "0.437100        1\n",
       "0.475500        1\n",
       "0.269200        1\n",
       "0.801500        1\n",
       "0.321700        1\n",
       "0.538100        1\n",
       "0.544300        1\n",
       "0.555700        1\n",
       "0.247600        1\n",
       "0.688600        1\n",
       "0.494200        1\n",
       "0.309800        1\n",
       "0.326900        1\n",
       "0.817700        1\n",
       "0.294600        1\n",
       "0.291100        1\n",
       "Name: LIVINGAREA_AVG, Length: 4408, dtype: int64"
      ]
     },
     "execution_count": 8,
     "metadata": {},
     "output_type": "execute_result"
    }
   ],
   "source": [
    "data[\"LIVINGAREA_AVG\"].value_counts()\n"
   ]
  },
  {
   "cell_type": "markdown",
   "metadata": {},
   "source": [
    "So far I have fixed the first cell to have a value of 2 instead of a string and have fixed the column for the living  area avg."
   ]
  },
  {
   "cell_type": "code",
   "execution_count": 9,
   "metadata": {},
   "outputs": [
    {
     "data": {
      "text/plain": [
       "Series([], Name: AMT_ANNUITY, dtype: int64)"
      ]
     },
     "execution_count": 9,
     "metadata": {},
     "output_type": "execute_result"
    }
   ],
   "source": [
    "temp2 = data[\"AMT_ANNUITY\"].where(data.AMT_ANNUITY.isnull())\n",
    "temp2.value_counts()"
   ]
  },
  {
   "cell_type": "code",
   "execution_count": 10,
   "metadata": {
    "scrolled": true
   },
   "outputs": [
    {
     "data": {
      "text/plain": [
       "100004      6750.0\n",
       "100006     29686.5\n",
       "100012     20250.0\n",
       "100014     21177.0\n",
       "100015     10678.5\n",
       "100017     28966.5\n",
       "100018     32778.0\n",
       "100019     20160.0\n",
       "100030     11074.5\n",
       "100032     23827.5\n",
       "100034      9000.0\n",
       "100035     24592.5\n",
       "100040     32895.0\n",
       "100043     23157.0\n",
       "100045     17338.5\n",
       "100048     29196.0\n",
       "100049     16258.5\n",
       "100051     48280.5\n",
       "100055     37255.5\n",
       "100058      6750.0\n",
       "100059     34596.0\n",
       "100060     14661.0\n",
       "100062     32472.0\n",
       "100063     45558.0\n",
       "100069     27265.5\n",
       "100071     86989.5\n",
       "100078     43983.0\n",
       "100086     21775.5\n",
       "100088      6750.0\n",
       "100098     13500.0\n",
       "            ...   \n",
       "101713     27792.0\n",
       "101718     42142.5\n",
       "101722     25537.5\n",
       "101730     19066.5\n",
       "101731     23404.5\n",
       "101735     34825.5\n",
       "101737     47965.5\n",
       "101738     17608.5\n",
       "101740     11250.0\n",
       "101741     26217.0\n",
       "101744     20565.0\n",
       "101746      9000.0\n",
       "101747     22500.0\n",
       "101752     14742.0\n",
       "101755     21919.5\n",
       "101761     15075.0\n",
       "101765      6187.5\n",
       "101766     20079.0\n",
       "101787     21294.0\n",
       "101790     17154.0\n",
       "101793     28111.5\n",
       "101794     10462.5\n",
       "101796     18396.0\n",
       "101797     36774.0\n",
       "101798    107356.5\n",
       "101802     46827.0\n",
       "101803     17905.5\n",
       "101806     27832.5\n",
       "101808      9000.0\n",
       "101823     18306.0\n",
       "Name: AMT_ANNUITY, Length: 500, dtype: float64"
      ]
     },
     "execution_count": 10,
     "metadata": {},
     "output_type": "execute_result"
    }
   ],
   "source": [
    "data[\"AMT_ANNUITY\"].fillna(data[\"AMT_ANNUITY\"].mean()).head(500)"
   ]
  },
  {
   "cell_type": "code",
   "execution_count": 11,
   "metadata": {},
   "outputs": [
    {
     "data": {
      "text/plain": [
       "0    80245\n",
       "1    19755\n",
       "Name: FLAG_WORK_PHONE, dtype: int64"
      ]
     },
     "execution_count": 11,
     "metadata": {},
     "output_type": "execute_result"
    }
   ],
   "source": [
    "data[\"FLAG_WORK_PHONE\"].value_counts()"
   ]
  },
  {
   "cell_type": "code",
   "execution_count": 12,
   "metadata": {},
   "outputs": [
    {
     "data": {
      "text/html": [
       "<div>\n",
       "<style scoped>\n",
       "    .dataframe tbody tr th:only-of-type {\n",
       "        vertical-align: middle;\n",
       "    }\n",
       "\n",
       "    .dataframe tbody tr th {\n",
       "        vertical-align: top;\n",
       "    }\n",
       "\n",
       "    .dataframe thead th {\n",
       "        text-align: right;\n",
       "    }\n",
       "</style>\n",
       "<table border=\"1\" class=\"dataframe\">\n",
       "  <thead>\n",
       "    <tr style=\"text-align: right;\">\n",
       "      <th></th>\n",
       "      <th>REGION_RATING_CLIENT</th>\n",
       "      <th>AMT_ANNUITY</th>\n",
       "      <th>FLAG_WORK_PHONE</th>\n",
       "      <th>CODE_GENDER</th>\n",
       "      <th>NAME_FAMILY_STATUS</th>\n",
       "      <th>REG_CITY_NOT_WORK_CITY</th>\n",
       "      <th>EXT_SOURCE_2</th>\n",
       "      <th>FLAG_EMP_PHONE</th>\n",
       "      <th>FLAG_DOCUMENT_5</th>\n",
       "      <th>LIVINGAREA_AVG</th>\n",
       "      <th>IS_KAEL</th>\n",
       "    </tr>\n",
       "  </thead>\n",
       "  <tbody>\n",
       "    <tr>\n",
       "      <th>100004</th>\n",
       "      <td>2</td>\n",
       "      <td>6750.0</td>\n",
       "      <td>1</td>\n",
       "      <td>M</td>\n",
       "      <td>Single / not married</td>\n",
       "      <td>0</td>\n",
       "      <td>55.59%</td>\n",
       "      <td>1</td>\n",
       "      <td>0</td>\n",
       "      <td>0.107732</td>\n",
       "      <td>NaN</td>\n",
       "    </tr>\n",
       "    <tr>\n",
       "      <th>100006</th>\n",
       "      <td>2</td>\n",
       "      <td>29686.5</td>\n",
       "      <td>0</td>\n",
       "      <td>F</td>\n",
       "      <td>Civil marriage</td>\n",
       "      <td>0</td>\n",
       "      <td>65.04%</td>\n",
       "      <td>1</td>\n",
       "      <td>0</td>\n",
       "      <td>0.107732</td>\n",
       "      <td>0.0</td>\n",
       "    </tr>\n",
       "    <tr>\n",
       "      <th>100012</th>\n",
       "      <td>2</td>\n",
       "      <td>20250.0</td>\n",
       "      <td>0</td>\n",
       "      <td>M</td>\n",
       "      <td>Single / not married</td>\n",
       "      <td>0</td>\n",
       "      <td>74.66%</td>\n",
       "      <td>1</td>\n",
       "      <td>0</td>\n",
       "      <td>0.107732</td>\n",
       "      <td>NaN</td>\n",
       "    </tr>\n",
       "    <tr>\n",
       "      <th>100014</th>\n",
       "      <td>2</td>\n",
       "      <td>21177.0</td>\n",
       "      <td>0</td>\n",
       "      <td>F</td>\n",
       "      <td>Married</td>\n",
       "      <td>0</td>\n",
       "      <td>65.19%</td>\n",
       "      <td>1</td>\n",
       "      <td>0</td>\n",
       "      <td>0.107732</td>\n",
       "      <td>0.0</td>\n",
       "    </tr>\n",
       "    <tr>\n",
       "      <th>100015</th>\n",
       "      <td>2</td>\n",
       "      <td>10678.5</td>\n",
       "      <td>0</td>\n",
       "      <td>F</td>\n",
       "      <td>Married</td>\n",
       "      <td>0</td>\n",
       "      <td>55.52%</td>\n",
       "      <td>0</td>\n",
       "      <td>0</td>\n",
       "      <td>0.107732</td>\n",
       "      <td>0.0</td>\n",
       "    </tr>\n",
       "  </tbody>\n",
       "</table>\n",
       "</div>"
      ],
      "text/plain": [
       "       REGION_RATING_CLIENT  AMT_ANNUITY  FLAG_WORK_PHONE CODE_GENDER  \\\n",
       "100004                    2       6750.0                1           M   \n",
       "100006                    2      29686.5                0           F   \n",
       "100012                    2      20250.0                0           M   \n",
       "100014                    2      21177.0                0           F   \n",
       "100015                    2      10678.5                0           F   \n",
       "\n",
       "          NAME_FAMILY_STATUS  REG_CITY_NOT_WORK_CITY EXT_SOURCE_2  \\\n",
       "100004  Single / not married                       0       55.59%   \n",
       "100006        Civil marriage                       0       65.04%   \n",
       "100012  Single / not married                       0       74.66%   \n",
       "100014               Married                       0       65.19%   \n",
       "100015               Married                       0       55.52%   \n",
       "\n",
       "        FLAG_EMP_PHONE  FLAG_DOCUMENT_5  LIVINGAREA_AVG  IS_KAEL  \n",
       "100004               1                0        0.107732      NaN  \n",
       "100006               1                0        0.107732      0.0  \n",
       "100012               1                0        0.107732      NaN  \n",
       "100014               1                0        0.107732      0.0  \n",
       "100015               0                0        0.107732      0.0  "
      ]
     },
     "execution_count": 12,
     "metadata": {},
     "output_type": "execute_result"
    }
   ],
   "source": [
    "data.head()"
   ]
  },
  {
   "cell_type": "code",
   "execution_count": 13,
   "metadata": {},
   "outputs": [
    {
     "data": {
      "text/plain": [
       "F    65888\n",
       "M    34112\n",
       "Name: CODE_GENDER, dtype: int64"
      ]
     },
     "execution_count": 13,
     "metadata": {},
     "output_type": "execute_result"
    }
   ],
   "source": [
    "data[\"CODE_GENDER\"].value_counts()"
   ]
  },
  {
   "cell_type": "code",
   "execution_count": 14,
   "metadata": {},
   "outputs": [
    {
     "data": {
      "text/plain": [
       "Married                 63958\n",
       "Single / not married    14789\n",
       "Civil marriage           9611\n",
       "Separated                6393\n",
       "Widow                    5248\n",
       "Unknown                     1\n",
       "Name: NAME_FAMILY_STATUS, dtype: int64"
      ]
     },
     "execution_count": 14,
     "metadata": {},
     "output_type": "execute_result"
    }
   ],
   "source": [
    "data[\"NAME_FAMILY_STATUS\"].value_counts()"
   ]
  },
  {
   "cell_type": "code",
   "execution_count": 15,
   "metadata": {},
   "outputs": [
    {
     "data": {
      "text/plain": [
       "0    77028\n",
       "1    22972\n",
       "Name: REG_CITY_NOT_WORK_CITY, dtype: int64"
      ]
     },
     "execution_count": 15,
     "metadata": {},
     "output_type": "execute_result"
    }
   ],
   "source": [
    "data[\"REG_CITY_NOT_WORK_CITY\"].value_counts()"
   ]
  },
  {
   "cell_type": "code",
   "execution_count": 16,
   "metadata": {},
   "outputs": [
    {
     "data": {
      "text/plain": [
       "100004    55.59%\n",
       "100006    65.04%\n",
       "100012    74.66%\n",
       "100014    65.19%\n",
       "100015    55.52%\n",
       "Name: EXT_SOURCE_2, dtype: object"
      ]
     },
     "execution_count": 16,
     "metadata": {},
     "output_type": "execute_result"
    }
   ],
   "source": [
    "data[\"EXT_SOURCE_2\"].head()"
   ]
  },
  {
   "cell_type": "code",
   "execution_count": 17,
   "metadata": {},
   "outputs": [
    {
     "data": {
      "text/plain": [
       "100004    55.59%\n",
       "100006    65.04%\n",
       "100012    74.66%\n",
       "100014    65.19%\n",
       "100015    55.52%\n",
       "100017    56.69%\n",
       "100018    64.27%\n",
       "100019    34.66%\n",
       "100030    65.14%\n",
       "100032    54.11%\n",
       "100034    50.28%\n",
       "100035    48.00%\n",
       "100040    17.25%\n",
       "100043    68.17%\n",
       "100045    65.08%\n",
       "100048     3.73%\n",
       "100049    67.42%\n",
       "100051    63.15%\n",
       "100055    58.92%\n",
       "100058    45.08%\n",
       "100059    71.34%\n",
       "100060    70.59%\n",
       "100062    66.29%\n",
       "100063    61.66%\n",
       "100069    25.67%\n",
       "100071    57.07%\n",
       "100078    51.73%\n",
       "100086    56.99%\n",
       "100088    58.52%\n",
       "100098    59.71%\n",
       "           ...  \n",
       "456184    34.87%\n",
       "456187    59.94%\n",
       "456195    53.43%\n",
       "456196    68.01%\n",
       "456198    42.20%\n",
       "456199    57.52%\n",
       "456205    59.08%\n",
       "456207    72.44%\n",
       "456210    47.98%\n",
       "456211    55.49%\n",
       "456213    26.45%\n",
       "456214    50.27%\n",
       "456215    58.32%\n",
       "456217    54.78%\n",
       "456219    22.60%\n",
       "456227    58.99%\n",
       "456228    73.97%\n",
       "456233    61.53%\n",
       "456234    37.84%\n",
       "456235    56.12%\n",
       "456236    59.92%\n",
       "456237    42.47%\n",
       "456239    26.78%\n",
       "456242    74.63%\n",
       "456244    78.94%\n",
       "456245    57.55%\n",
       "456246    31.33%\n",
       "456249    34.64%\n",
       "456252    11.60%\n",
       "456253    53.57%\n",
       "Name: EXT_SOURCE_2, Length: 100000, dtype: object"
      ]
     },
     "execution_count": 17,
     "metadata": {},
     "output_type": "execute_result"
    }
   ],
   "source": [
    "data[\"EXT_SOURCE_2\"].fillna(data.EXT_SOURCE_2.notnull().mean())"
   ]
  },
  {
   "cell_type": "code",
   "execution_count": 18,
   "metadata": {},
   "outputs": [],
   "source": [
    "data.reset_index(level = 0, inplace = True)"
   ]
  },
  {
   "cell_type": "code",
   "execution_count": 19,
   "metadata": {},
   "outputs": [],
   "source": [
    "data = data.rename(columns={'index': 'SK_ID'})"
   ]
  },
  {
   "cell_type": "code",
   "execution_count": 20,
   "metadata": {},
   "outputs": [
    {
     "data": {
      "text/html": [
       "<div>\n",
       "<style scoped>\n",
       "    .dataframe tbody tr th:only-of-type {\n",
       "        vertical-align: middle;\n",
       "    }\n",
       "\n",
       "    .dataframe tbody tr th {\n",
       "        vertical-align: top;\n",
       "    }\n",
       "\n",
       "    .dataframe thead th {\n",
       "        text-align: right;\n",
       "    }\n",
       "</style>\n",
       "<table border=\"1\" class=\"dataframe\">\n",
       "  <thead>\n",
       "    <tr style=\"text-align: right;\">\n",
       "      <th></th>\n",
       "      <th>SK_ID</th>\n",
       "      <th>REGION_RATING_CLIENT</th>\n",
       "      <th>AMT_ANNUITY</th>\n",
       "      <th>FLAG_WORK_PHONE</th>\n",
       "      <th>CODE_GENDER</th>\n",
       "      <th>NAME_FAMILY_STATUS</th>\n",
       "      <th>REG_CITY_NOT_WORK_CITY</th>\n",
       "      <th>EXT_SOURCE_2</th>\n",
       "      <th>FLAG_EMP_PHONE</th>\n",
       "      <th>FLAG_DOCUMENT_5</th>\n",
       "      <th>LIVINGAREA_AVG</th>\n",
       "      <th>IS_KAEL</th>\n",
       "    </tr>\n",
       "  </thead>\n",
       "  <tbody>\n",
       "    <tr>\n",
       "      <th>0</th>\n",
       "      <td>100004</td>\n",
       "      <td>2</td>\n",
       "      <td>6750.0</td>\n",
       "      <td>1</td>\n",
       "      <td>M</td>\n",
       "      <td>Single / not married</td>\n",
       "      <td>0</td>\n",
       "      <td>55.59%</td>\n",
       "      <td>1</td>\n",
       "      <td>0</td>\n",
       "      <td>0.107732</td>\n",
       "      <td>NaN</td>\n",
       "    </tr>\n",
       "    <tr>\n",
       "      <th>1</th>\n",
       "      <td>100006</td>\n",
       "      <td>2</td>\n",
       "      <td>29686.5</td>\n",
       "      <td>0</td>\n",
       "      <td>F</td>\n",
       "      <td>Civil marriage</td>\n",
       "      <td>0</td>\n",
       "      <td>65.04%</td>\n",
       "      <td>1</td>\n",
       "      <td>0</td>\n",
       "      <td>0.107732</td>\n",
       "      <td>0.0</td>\n",
       "    </tr>\n",
       "    <tr>\n",
       "      <th>2</th>\n",
       "      <td>100012</td>\n",
       "      <td>2</td>\n",
       "      <td>20250.0</td>\n",
       "      <td>0</td>\n",
       "      <td>M</td>\n",
       "      <td>Single / not married</td>\n",
       "      <td>0</td>\n",
       "      <td>74.66%</td>\n",
       "      <td>1</td>\n",
       "      <td>0</td>\n",
       "      <td>0.107732</td>\n",
       "      <td>NaN</td>\n",
       "    </tr>\n",
       "    <tr>\n",
       "      <th>3</th>\n",
       "      <td>100014</td>\n",
       "      <td>2</td>\n",
       "      <td>21177.0</td>\n",
       "      <td>0</td>\n",
       "      <td>F</td>\n",
       "      <td>Married</td>\n",
       "      <td>0</td>\n",
       "      <td>65.19%</td>\n",
       "      <td>1</td>\n",
       "      <td>0</td>\n",
       "      <td>0.107732</td>\n",
       "      <td>0.0</td>\n",
       "    </tr>\n",
       "    <tr>\n",
       "      <th>4</th>\n",
       "      <td>100015</td>\n",
       "      <td>2</td>\n",
       "      <td>10678.5</td>\n",
       "      <td>0</td>\n",
       "      <td>F</td>\n",
       "      <td>Married</td>\n",
       "      <td>0</td>\n",
       "      <td>55.52%</td>\n",
       "      <td>0</td>\n",
       "      <td>0</td>\n",
       "      <td>0.107732</td>\n",
       "      <td>0.0</td>\n",
       "    </tr>\n",
       "  </tbody>\n",
       "</table>\n",
       "</div>"
      ],
      "text/plain": [
       "    SK_ID REGION_RATING_CLIENT  AMT_ANNUITY  FLAG_WORK_PHONE CODE_GENDER  \\\n",
       "0  100004                    2       6750.0                1           M   \n",
       "1  100006                    2      29686.5                0           F   \n",
       "2  100012                    2      20250.0                0           M   \n",
       "3  100014                    2      21177.0                0           F   \n",
       "4  100015                    2      10678.5                0           F   \n",
       "\n",
       "     NAME_FAMILY_STATUS  REG_CITY_NOT_WORK_CITY EXT_SOURCE_2  FLAG_EMP_PHONE  \\\n",
       "0  Single / not married                       0       55.59%               1   \n",
       "1        Civil marriage                       0       65.04%               1   \n",
       "2  Single / not married                       0       74.66%               1   \n",
       "3               Married                       0       65.19%               1   \n",
       "4               Married                       0       55.52%               0   \n",
       "\n",
       "   FLAG_DOCUMENT_5  LIVINGAREA_AVG  IS_KAEL  \n",
       "0                0        0.107732      NaN  \n",
       "1                0        0.107732      0.0  \n",
       "2                0        0.107732      NaN  \n",
       "3                0        0.107732      0.0  \n",
       "4                0        0.107732      0.0  "
      ]
     },
     "execution_count": 20,
     "metadata": {},
     "output_type": "execute_result"
    }
   ],
   "source": [
    "data.head()"
   ]
  },
  {
   "cell_type": "code",
   "execution_count": 21,
   "metadata": {},
   "outputs": [
    {
     "data": {
      "text/plain": [
       "1    81965\n",
       "0    18035\n",
       "Name: FLAG_EMP_PHONE, dtype: int64"
      ]
     },
     "execution_count": 21,
     "metadata": {},
     "output_type": "execute_result"
    }
   ],
   "source": [
    "data[\"FLAG_EMP_PHONE\"].value_counts()"
   ]
  },
  {
   "cell_type": "code",
   "execution_count": 22,
   "metadata": {},
   "outputs": [
    {
     "data": {
      "text/plain": [
       "100000"
      ]
     },
     "execution_count": 22,
     "metadata": {},
     "output_type": "execute_result"
    }
   ],
   "source": [
    "len(data[\"IS_KAEL\"])"
   ]
  },
  {
   "cell_type": "code",
   "execution_count": 23,
   "metadata": {},
   "outputs": [],
   "source": [
    "#temp3 = data[data.IS_KAEL > 0]\n",
    "#Is_Kael_mean = temp[\"IS_KAEL\"].mean()\n",
    "\n",
    "data[\"IS_KAEL\"][data.IS_KAEL > 0]= 1"
   ]
  },
  {
   "cell_type": "code",
   "execution_count": 24,
   "metadata": {},
   "outputs": [],
   "source": [
    "data[\"IS_KAEL\"] = data[\"IS_KAEL\"].fillna(0.07988)"
   ]
  },
  {
   "cell_type": "code",
   "execution_count": 25,
   "metadata": {},
   "outputs": [
    {
     "data": {
      "text/plain": [
       "0.00000    69009\n",
       "0.07988    25000\n",
       "1.00000     5991\n",
       "Name: IS_KAEL, dtype: int64"
      ]
     },
     "execution_count": 25,
     "metadata": {},
     "output_type": "execute_result"
    }
   ],
   "source": [
    "data[\"IS_KAEL\"].value_counts()"
   ]
  },
  {
   "cell_type": "code",
   "execution_count": 26,
   "metadata": {},
   "outputs": [
    {
     "data": {
      "text/plain": [
       "0.00000    69009\n",
       "0.07988    25000\n",
       "1.00000     5991\n",
       "Name: IS_KAEL, dtype: int64"
      ]
     },
     "execution_count": 26,
     "metadata": {},
     "output_type": "execute_result"
    }
   ],
   "source": [
    "data[\"IS_KAEL\"].value_counts()"
   ]
  },
  {
   "cell_type": "code",
   "execution_count": 27,
   "metadata": {},
   "outputs": [],
   "source": [
    "data = data.to_csv(\"data/dataZ_best_clean_v1.csv\")"
   ]
  }
 ],
 "metadata": {
  "kernelspec": {
   "display_name": "Python 3",
   "language": "python",
   "name": "python3"
  },
  "language_info": {
   "codemirror_mode": {
    "name": "ipython",
    "version": 3
   },
   "file_extension": ".py",
   "mimetype": "text/x-python",
   "name": "python",
   "nbconvert_exporter": "python",
   "pygments_lexer": "ipython3",
   "version": "3.6.5"
  }
 },
 "nbformat": 4,
 "nbformat_minor": 2
}
